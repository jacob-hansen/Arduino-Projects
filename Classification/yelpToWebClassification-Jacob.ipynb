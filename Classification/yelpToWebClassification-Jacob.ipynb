{
  "nbformat": 4,
  "nbformat_minor": 0,
  "metadata": {
    "colab": {
      "name": "yelpToWebClassification.ipynb",
      "provenance": [],
      "authorship_tag": "ABX9TyOcPOgPa2rtvk/Goa1PYEgY",
      "include_colab_link": true
    },
    "kernelspec": {
      "name": "python3",
      "display_name": "Python 3"
    },
    "language_info": {
      "name": "python"
    }
  },
  "cells": [
    {
      "cell_type": "markdown",
      "metadata": {
        "id": "view-in-github",
        "colab_type": "text"
      },
      "source": [
        "<a href=\"https://colab.research.google.com/github/jacob-hansen/Arduino-Projects/blob/main/Classification/yelpToWebClassification-Jacob.ipynb\" target=\"_parent\"><img src=\"https://colab.research.google.com/assets/colab-badge.svg\" alt=\"Open In Colab\"/></a>"
      ]
    },
    {
      "cell_type": "markdown",
      "source": [
        "# Open Connection to Google Sheets File"
      ],
      "metadata": {
        "id": "P3LtbDQJOO-Y"
      }
    },
    {
      "cell_type": "code",
      "execution_count": 1,
      "metadata": {
        "id": "r_NH0kbONuDM"
      },
      "outputs": [],
      "source": [
        "import requests\n",
        "from google.colab import auth\n",
        "auth.authenticate_user()\n",
        "import gspread\n",
        "from oauth2client.client import GoogleCredentials\n",
        "gc = gspread.authorize(GoogleCredentials.get_application_default())"
      ]
    },
    {
      "cell_type": "code",
      "source": [
        "worksheet = gc.open('Yelp Scraping Data Final').sheet1\n",
        "places = set(worksheet.col_values(2)[1:])\n",
        "testValues = worksheet.get()\n",
        "headerNames = worksheet.get(\"A1:F1\")[0]\n",
        "headerDic = {headerNames[i]: i for i in range(len(headerNames))}"
      ],
      "metadata": {
        "id": "I3o_vuCGN2jY"
      },
      "execution_count": 54,
      "outputs": []
    },
    {
      "cell_type": "markdown",
      "source": [
        "# Filter Text to Desired Words"
      ],
      "metadata": {
        "id": "HCcFKrosOXtf"
      }
    },
    {
      "cell_type": "code",
      "source": [
        "# Set up nltk imports for tokenization\n",
        "import nltk\n",
        "nltk.download('punkt')\n",
        "nltk.download('regexp')\n",
        "from nltk.tokenize import RegexpTokenizer"
      ],
      "metadata": {
        "id": "FzGQCwbaPzfG",
        "colab": {
          "base_uri": "https://localhost:8080/"
        },
        "outputId": "0e823fc8-4e16-4225-d3b6-0f2273e22429"
      },
      "execution_count": 3,
      "outputs": [
        {
          "output_type": "stream",
          "name": "stdout",
          "text": [
            "[nltk_data] Downloading package punkt to /root/nltk_data...\n",
            "[nltk_data]   Unzipping tokenizers/punkt.zip.\n",
            "[nltk_data] Error loading regexp: Package 'regexp' not found in index\n"
          ]
        }
      ]
    },
    {
      "cell_type": "code",
      "source": [
        "# Set up nltk and gensim stopwords removal\n",
        "nltk.download('stopwords')\n",
        "from nltk.corpus import stopwords\n",
        "from gensim.parsing.preprocessing import STOPWORDS"
      ],
      "metadata": {
        "colab": {
          "base_uri": "https://localhost:8080/"
        },
        "id": "5sYg0Qk7qWmR",
        "outputId": "a0f632fc-2c28-477a-e691-9229ec0e600f"
      },
      "execution_count": 4,
      "outputs": [
        {
          "output_type": "stream",
          "name": "stdout",
          "text": [
            "[nltk_data] Downloading package stopwords to /root/nltk_data...\n",
            "[nltk_data]   Unzipping corpora/stopwords.zip.\n"
          ]
        }
      ]
    },
    {
      "cell_type": "code",
      "source": [
        "# set up to get words to stem root\n",
        "import re\n",
        "from nltk.stem.snowball import SnowballStemmer\n",
        "stemmer = SnowballStemmer(\"english\")"
      ],
      "metadata": {
        "id": "rr3gKxKPkhSj"
      },
      "execution_count": 5,
      "outputs": []
    },
    {
      "cell_type": "code",
      "source": [
        "def getTextByRating(file, minRating, readLength = 0):\n",
        "    \"\"\"\n",
        "    From a specified Sheets File in Google Drive, \n",
        "    get the readLength number of reviews and return those that have the given minRating. \n",
        "    If readLength == 0, default is returning all reviews. \n",
        "    \"\"\"\n",
        "    worksheet = gc.open(file).sheet1\n",
        "    if readLength != 0:\n",
        "        zipped = zip(worksheet.col_values(3)[1:readLength], worksheet.col_values(1)[1:readLength], worksheet.col_values(4)[1:readLength])\n",
        "    else:\n",
        "        zipped = zip(worksheet.col_values(3)[1:], worksheet.col_values(1)[1:], worksheet.col_values(4)[1:])\n",
        "    places = (i[1:] for i in zipped if int(i[0]) >= minRating)\n",
        "    activityNames = {}\n",
        "    for row in testValues:\n",
        "        if row[0] not in activityNames:\n",
        "            activityNames[row[0]] = row[1]\n",
        "    return places, activityNames"
      ],
      "metadata": {
        "id": "NTdoYxzkVTKb"
      },
      "execution_count": 62,
      "outputs": []
    },
    {
      "cell_type": "code",
      "source": [
        "def masterTokenizer(inputtext):\n",
        "    no_nums = re.sub(r'[0-9]+', ' ', inputtext)\n",
        "    firstTokens = tokenizer.tokenize(no_nums) \n",
        "    stemmed_words_ps = [stemmer.stem(word) for word in firstTokens]\n",
        "    tokens_without_sw = [word.lower() for word in stemmed_words_ps if word.lower() not in STOPWORDS and word.lower() not in stopwords.words('english')]\n",
        "    return list(tokens_without_sw)"
      ],
      "metadata": {
        "id": "Qke384BJKAbF"
      },
      "execution_count": 6,
      "outputs": []
    },
    {
      "cell_type": "code",
      "source": [
        "testText, activityNames = getTextByRating('Yelp Scraping Data Final', 4)\n",
        "tokenList = {}\n",
        "tokenizer = RegexpTokenizer(r'\\w+')\n",
        "for activity, review in testText:\n",
        "    if int(activity) not in tokenList:\n",
        "        tokenList[int(activity)] = []\n",
        "    if len(review) > 200:\n",
        "        tokenList[int(activity)].append(masterTokenizer(review)) \n",
        "        # python maintains dictionary key orders, \n",
        "        # So tokenList.keys() will return the correct order of insertion\n",
        "    "
      ],
      "metadata": {
        "id": "XM-RaTFXR4-K"
      },
      "execution_count": 100,
      "outputs": []
    },
    {
      "cell_type": "markdown",
      "source": [
        "output tokens is tokenList (a dictionary of activities 0-n of a list of list of words)"
      ],
      "metadata": {
        "id": "DNze9zYroezX"
      }
    },
    {
      "cell_type": "markdown",
      "source": [
        "# Gensim Word2Vec "
      ],
      "metadata": {
        "id": "SEXZwRVQqfx8"
      }
    },
    {
      "cell_type": "code",
      "source": [
        "from gensim.models import Word2Vec\n",
        "import itertools\n",
        "import numpy as np"
      ],
      "metadata": {
        "id": "Qvdy5g01qiiP"
      },
      "execution_count": 17,
      "outputs": []
    },
    {
      "cell_type": "code",
      "source": [
        "def getVec(model, inputtext): \n",
        "    modifiedText = masterTokenizer(inputtext)\n",
        "    checkText = [i for i in modifiedText if i in model.wv]\n",
        "    vTx = [0]*model.vector_size\n",
        "    for word in checkText:\n",
        "        vTx += np.array(model[word])\n",
        "    vTNorm = vTx / np.sqrt(np.dot(vTx,vTx))\n",
        "    return vTNorm"
      ],
      "metadata": {
        "id": "kkFBdj9TLmgY"
      },
      "execution_count": 9,
      "outputs": []
    },
    {
      "cell_type": "code",
      "source": [
        "# groups = [j.join(' ') for i in tokenList for j in tokenList[i]]\n",
        "sentences = [list(itertools.chain.from_iterable(tokenList[i])) for i in tokenList]\n",
        "WVmodel = Word2Vec(sentences, min_count=3, size=10, window=200)\n",
        "vocabulary = WVmodel.wv\n",
        "activityVecs = np.array([getVec(WVmodel, \" \".join(i)) for i in sentences])"
      ],
      "metadata": {
        "colab": {
          "base_uri": "https://localhost:8080/"
        },
        "id": "oBTo7tneqjxx",
        "outputId": "e9d4f23f-0f78-4ff7-b6bc-7393dba3b874"
      },
      "execution_count": 106,
      "outputs": [
        {
          "output_type": "stream",
          "name": "stderr",
          "text": [
            "/usr/local/lib/python3.7/dist-packages/ipykernel_launcher.py:6: DeprecationWarning: Call to deprecated `__getitem__` (Method will be removed in 4.0.0, use self.wv.__getitem__() instead).\n",
            "  \n"
          ]
        }
      ]
    },
    {
      "cell_type": "code",
      "source": [
        "def inf_norm(matrix):\n",
        "    return matrix"
      ],
      "metadata": {
        "id": "Q8wnautWO0Cu"
      },
      "execution_count": 58,
      "outputs": []
    },
    {
      "cell_type": "code",
      "source": [
        "def mostProbable(model, activityVecs, inputText, activityNames = False):\n",
        "    inputVec = np.matrix(getVec(model, inputText))\n",
        "    if activityNames:\n",
        "        return activityNames[str(np.argmax(inf_norm(activityVecs*np.transpose(inputVec))))]\n",
        "    else:\n",
        "        return inf_norm(activityVecs*np.transpose(inputVec))\n"
      ],
      "metadata": {
        "id": "_tBTbql8OQOz"
      },
      "execution_count": 59,
      "outputs": []
    },
    {
      "cell_type": "code",
      "source": [
        "testSentence = \"I love going to the aquarium. I get to see tons of fish and I get to explore. Every floor is so cool! There are penguins, frogs, more fish. You name it!\"\n",
        "test2 = \"Escape rooms that I got out fast\"  #Yesterday I went to the escape room with some friends. There were a lot of us in the room, so we got out pretty fast. But there were fun puzzles and tricks.\"\n",
        "print(mostProbable(WVmodel, activityVecs, testSentence, activityNames))\n",
        "print(mostProbable(WVmodel, activityVecs, test2, activityNames))"
      ],
      "metadata": {
        "colab": {
          "base_uri": "https://localhost:8080/"
        },
        "id": "o58HL8UdMzaO",
        "outputId": "6238bcb1-3976-40c5-8677-b23a113ea5fd"
      },
      "execution_count": 64,
      "outputs": [
        {
          "output_type": "stream",
          "name": "stdout",
          "text": [
            "new england aquarium boston\n",
            "boxaroo boston 6\n"
          ]
        },
        {
          "output_type": "stream",
          "name": "stderr",
          "text": [
            "/usr/local/lib/python3.7/dist-packages/ipykernel_launcher.py:6: DeprecationWarning: Call to deprecated `__getitem__` (Method will be removed in 4.0.0, use self.wv.__getitem__() instead).\n",
            "  \n"
          ]
        }
      ]
    },
    {
      "cell_type": "code",
      "source": [
        "def reviewSimilarity(model, a, b): \n",
        "    \"\"\"\n",
        "    Given a gensim Word2Vec Model\n",
        "    Finds and sums the vectors for each word in each sentence\n",
        "    Computes and returns the Cosine Distance\n",
        "    \"\"\"\n",
        "    checkA = [i for i in a if i in model.wv]\n",
        "    checkB = [i for i in b if i in model.wv]\n",
        "    vA = [0]*model.vector_size\n",
        "    vB = [0]*model.vector_size\n",
        "    for word in checkA:\n",
        "        vA += np.array(model[word])\n",
        "    for word in checkB:\n",
        "        vB += np.array(model[word])\n",
        "    distance = abs(np.dot(vA, vB) / (np.sqrt(np.dot(vA,vA)) * np.sqrt(np.dot(vB,vB))))\n",
        "    return distance \n"
      ],
      "metadata": {
        "id": "ah_m8NxPFax3"
      },
      "execution_count": 65,
      "outputs": []
    },
    {
      "cell_type": "code",
      "source": [
        "reviewSimilarity(WVmodel, tokenList[0][4], tokenList[0][24])"
      ],
      "metadata": {
        "colab": {
          "base_uri": "https://localhost:8080/"
        },
        "id": "lt-6lgOr_6t5",
        "outputId": "90fe2c81-8bfe-4cb8-ab2d-fb4259646a26"
      },
      "execution_count": 66,
      "outputs": [
        {
          "output_type": "stream",
          "name": "stderr",
          "text": [
            "/usr/local/lib/python3.7/dist-packages/ipykernel_launcher.py:12: DeprecationWarning: Call to deprecated `__getitem__` (Method will be removed in 4.0.0, use self.wv.__getitem__() instead).\n",
            "  if sys.path[0] == '':\n",
            "/usr/local/lib/python3.7/dist-packages/ipykernel_launcher.py:14: DeprecationWarning: Call to deprecated `__getitem__` (Method will be removed in 4.0.0, use self.wv.__getitem__() instead).\n",
            "  \n"
          ]
        },
        {
          "output_type": "execute_result",
          "data": {
            "text/plain": [
              "0.9958994746097066"
            ]
          },
          "metadata": {},
          "execution_count": 66
        }
      ]
    },
    {
      "cell_type": "code",
      "source": [
        "testActivity1 = \"The interactive exhibits and exquisite attention to historical detail make this a quintessential Boston museum that every visitor must experience.\"  \n",
        "testActivity4 = \"Voted one of the Best Boston Ghost Tours for a Frightfully Good Time that's guaranteed to raise your spirits. Not all Boston Haunted Tours are created equal.\"\n",
        "print(reviewSimilarity(WVmodel, testActivity1, testActivity4))"
      ],
      "metadata": {
        "colab": {
          "base_uri": "https://localhost:8080/"
        },
        "id": "BnE9D7KKEd6J",
        "outputId": "c0d97ae0-1872-443d-c1a9-16d7ba837bf6"
      },
      "execution_count": 67,
      "outputs": [
        {
          "output_type": "stream",
          "name": "stdout",
          "text": [
            "0.2607496960179214\n"
          ]
        },
        {
          "output_type": "stream",
          "name": "stderr",
          "text": [
            "/usr/local/lib/python3.7/dist-packages/ipykernel_launcher.py:12: DeprecationWarning: Call to deprecated `__getitem__` (Method will be removed in 4.0.0, use self.wv.__getitem__() instead).\n",
            "  if sys.path[0] == '':\n",
            "/usr/local/lib/python3.7/dist-packages/ipykernel_launcher.py:14: DeprecationWarning: Call to deprecated `__getitem__` (Method will be removed in 4.0.0, use self.wv.__getitem__() instead).\n",
            "  \n"
          ]
        }
      ]
    },
    {
      "cell_type": "markdown",
      "source": [
        "# Testing Google Web Searches Against Review Sorting"
      ],
      "metadata": {
        "id": "1VHOrXPeewir"
      }
    },
    {
      "cell_type": "code",
      "source": [
        "worksheet = gc.open('Google Search Websites Boston').sheet1\n",
        "testValues = worksheet.get()[1:]\n",
        "print(testValues)"
      ],
      "metadata": {
        "id": "lTZKbX51K0O1",
        "colab": {
          "base_uri": "https://localhost:8080/"
        },
        "outputId": "d6f18735-254a-45be-97d9-c40ee45d6e5e"
      },
      "execution_count": 73,
      "outputs": [
        {
          "output_type": "stream",
          "name": "stdout",
          "text": [
            "[['1', 'boston tea party ships and museum boston', 'Best Museums In Boston | Relive The Boston Tea Party In 1773', 'At the Boston Tea Party Ships & Museum, you can be a part of the famous event that forever changed the course of American history through a multi-sensory\\xa0...', 'https://www.bostonteapartyship.com/', 'The interactive exhibits and exquisite attention to historical detail make this a quintessential Boston museum that every visitor must experience.'], ['1', 'boston tea party ships and museum boston', 'Boston Tea Party Ships & Museum Visitor Information Guide', \"Located on the Congress Street Bridge, the Boston Tea Party Ships & Museum is an interactive, high tech, floating museum. Unlike anything you've ever\\xa0...\", 'https://www.trolleytours.com/boston/tea-party-ships-museum', 'Learn about The Boston Tea Party Ships and Museum with our complete information guide featuring historical facts, map, pictures, and things to do nearby.'], ['1', 'boston tea party ships and museum boston', 'Discount Tickets & Packages For Boston Tea Party Ships & Museum', 'Patriot Package Includes: · Admission to Boston Tea Party Ships & Museum® Plus a ticket to the following: · Boston Old Town Trolley - 2 consecutive days of free\\xa0...', 'https://www.bostonteapartyship.com/boston-tea-party-museum-rates-reservations', 'This is your chance to relive that historic 1773 night in Boston Harbor. Save time and money by purchasing discount tickets online.'], ['1', 'boston tea party ships and museum boston', 'Boston Tea Party Ships & Museum - 2022 All You Need to Know ...', \"It's more than a stroll through historic artifacts – it's an adventure! Located on the Congress Street Bridge in Boston, Massachusetts, this floating museum is\\xa0...\", 'https://www.tripadvisor.com/Attraction_Review-g60745-d103645-Reviews-Boston_Tea_Party_Ships_Museum-Boston_Massachusetts.html'], ['1', 'boston tea party ships and museum boston', 'Boston Tea Party Ships & Museum Admission 2022', 'Relive the most important event leading up to the American Revolution on this self-guided tour of the Boston Tea Party Ships and Museum.', 'https://www.viator.com/tours/Boston/Admission-to-Boston-Tea-Party-Ships-and-Museum/d678-5650TEA', 'Step back in time and see how the Boston Tea Party changed American history! This Boston museum details the series of events leading to December 16, 1773, and then goes on to demonstrate how that fateful day kick-started the American Revolution. View the Robinson Tea Chest, the only known surviving tea chest from the Boston Tea Party and experience it’s amazing story. At the Boston Tea Party Ships and Museum, spend your day exploring the famed tall ships, throw the fated tea into Boston Harbor, explore museum exhibits, watch a captivating movie recounting the events of that time and enjoy a fully guided tour!\\n\\n*Vaccination Requirements - January 15th, People age 12+ must show proof of one dose of vaccine. - February 15th, People age 12+ must show proof of full vaccination. - March 1st, Children age 5-11 must show proof of one dose of vaccine. - May 1st People age 5+ must show proof of full vaccination.'], ['1', 'boston tea party ships and museum boston', 'Boston Tea Party Ships & Museum - Home | Facebook', 'The Boston Tea Party Ships & Museum is dedicated to telling the story of December 16, 1773. Join Sam Adams and the Sons of Liberty as we take part in the\\xa0...', 'https://www.facebook.com/bostonteapartyships/', 'Boston Tea Party Ships & Museum, Boston, MA. 10,911 likes · 43 talking about this · 79,430 were here. The Boston Tea Party Ships & Museum is dedicated to telling the story of December 16, 1773....'], ['1', 'boston tea party ships and museum boston', 'Boston Tea Party Ship & Museum (for kids and adults) (Local Guide)', 'The Boston Tea Party Ship & Museum is a re-creation of the famous protest in a full scale replica of the ship, also museum exhibits. Come relive that historic\\xa0...', 'https://www.bostoncentral.com/activities/boston_tea_party/p229.php'], ['1', 'boston tea party ships and museum boston', 'Boston Tea Party - Wikipedia', 'The Boston Tea Party Museum is located on the Congress Street Bridge in Boston. It features reenactments, a documentary,\\xa0...', 'https://en.wikipedia.org/wiki/Boston_Tea_Party'], ['1', 'boston tea party ships and museum boston', 'Boston Tea Party Ships & Museum Discount Tickets', 'At the Boston Tea Party Ships & Museum, you can be a part of the famous event that forever changed the course of American history through a multi-sensory\\xa0...', 'https://www.trustedtours.com/store/boston-tea-party-ships-museum.aspx'], ['1', 'boston tea party ships and museum boston', 'Boston Tea Party Ships & Museum – Museum Review | Condé Nast ...', \"Zoom out. What's this place all about? This highly immersive museum brings history to life—quite literally—as actors in period costumes perform historic\\xa0...\", 'https://www.cntraveler.com/activities/boston/boston-tea-party-ships-and-museum', 'Find Boston Tea Party Ships & Museum, Downtown Boston, Boston, Massachusetts, United States ratings, photos, prices, expert advice, traveler reviews and tips, and more information from Condé Nast Traveler.'], ['2', 'trapology boston boston', 'Best Boston Escape Room - Trapology Boston - Trapology Boston', 'Expect to feel awed! All stops were pulled and no expenses were spared. Surprise after surprise will be thrown at you and just when you think nothing more can\\xa0...', 'https://trapologyboston.com/', 'The interactive exhibits and exquisite attention to historical detail make this a quintessential Boston museum that every visitor must experience.'], ['2', 'trapology boston boston', 'Trapology Boston - Home | Facebook', 'Trapology Boston · Trapology is a real-life escape adventure game. Explore themed rooms, find clues & solve a series of connected logic and analytical puzzles to\\xa0...', 'https://www.facebook.com/trapologyboston/', 'Trapology Boston, Boston, Massachusetts. 2,634 likes · 6 talking about this · 5,048 were here. Trapology is a real-life escape adventure game. Explore themed rooms, find clues & solve a series of...'], ['2', 'trapology boston boston', 'Buy Tickets - Trapology Boston', \"PLEASE NOTE: Per the city of Boston's Mandate going into effect on January 15th, 2022, all indoor entertainment customers are required to provide proof of\\xa0...\", 'https://trapologyboston.com/buy-tickets/', 'This is your chance to relive that historic 1773 night in Boston Harbor. Save time and money by purchasing discount tickets online.'], ['2', 'trapology boston boston', 'Trapology Boston | LinkedIn', \"Trapology is Boston's leading escape room and entertainment experience company. Our team of Boston locals design, build, and produce escape games and other\\xa0...\", 'https://www.linkedin.com/company/trapology', \"Trapology Boston | 72 followers on LinkedIn. Boston's leading immersive entertainment and escape game company. | Trapology is Boston's leading escape room and entertainment experience company. Our team of Boston locals design, build, and produce escape games and other interactive entertainment with a focus on memorable events with friends, family, and co-workers.\\n\\nWe believe in showcasing teams’ talents through experiences that challenge, connect, and entertain.\"], ['2', 'trapology boston boston', \"Boston Outdoor Escape Room - Trapology's Outdoor Adventures\", \"Trapology's Outdoor Escape Adventures takes all the best parts of our indoor escape games and sets them loose on the city of Boston!\", 'https://trapologyboston.com/outdoor-escape-adventures/', 'Outdoor Adventures is a family-friendly Boston Outdoor Escape Room that uses Augmented Reality. Uncover Clues as you and your team explores Boston!'], ['2', 'trapology boston boston', 'TRAPOLOGY BOSTON - 56 Photos & 235 Reviews - Escape Games ...', '235 reviews of Trapology Boston \"I\\'m slightly obsessed with puzzle games and this was SO PERFECT! You know how you can kinda cheat on a PC/iPad game because\\xa0...', 'https://www.yelp.com/biz/trapology-boston-boston', '235 reviews of Trapology Boston \"I\\'m slightly obsessed with puzzle games and this was SO PERFECT! You know how you can kinda cheat on a PC/iPad game because you know what\\'s clickable and what isn\\'t? Well there are no cheats like that IRL!\\n\\nHighly recommended to bring a group of friends and make new friends (definitely bring your smartypants friends), not recommended for those who hate fun.\"'], ['2', 'trapology boston boston', 'Boston Escape Games and Interactive Experiences - Trapology ...', \"We'd like to invite you to Trapology Boston's newest game clinical trial, at The Institute. Pioneers of countless groundbreaking scientific advancements,\\xa0...\", 'https://trapologyboston.com/boston-gaming-immersive-experiences/', 'WE ARE FULLY OPEN! Trapology Boston Escape Games Outdoor Escape Adventures & Virtual Escape Rooms$38/person Learn more about Outdoor and Virtual Indoor Escape Rooms2 players – $45/person3 players – $42/person4 players – $39/person5-10 players – $38/person All games are privateNo booking, service, or other annoying hidden feesAll games are sanitized on a regular schedule'], ['2', 'trapology boston boston', 'Trapology Boston (@TrapologyBoston) / Twitter', 'Real Life Adventure Escape Game and Immersive Entertainment. https://t.co/FmecmAGgBl (857) 285-2085 #EscapeRoom.', 'https://twitter.com/trapologyboston?lang=en', 'Real Life Adventure Escape Game and Immersive Entertainment.\\n\\nhttps://t.co/FmecmAGgBl  \\n(857) 285-2085\\n#EscapeRoom'], ['2', 'trapology boston boston', \"Meet Boston's Independent Puzzlemasters at Trapology\", 'Oct 5, 2015 ... Jason Loeb and Nicole Chan opened Trapology Boston in July, six months after trying their first escape game.', 'https://www.bostonmagazine.com/arts-entertainment/2015/10/05/trapology-boston/', 'Jason Loeb and Nicole Chan opened Trapology Boston in July, six months after trying their first escape game.'], ['2', 'trapology boston boston', 'Trapology Boston - 2022 All You Need to Know BEFORE You Go ...', 'Trapology Boston is a real-life adventure escape game that offers an interactive experience with one mission: ESCAPE! Explore our rooms, find clues,\\xa0...', 'https://www.tripadvisor.com/Attraction_Review-g60745-d8399173-Reviews-Trapology_Boston-Boston_Massachusetts.html', 'Find Boston Tea Party Ships & Museum, Downtown Boston, Boston, Massachusetts, United States ratings, photos, prices, expert advice, traveler reviews and tips, and more information from Condé Nast Traveler.'], ['3', 'jacques cabaret boston', \"Jacque's Cabaret\", 'Jacques Cabaret features live entertainment seven nights a week! ... By order of the City of Boston Health Commission, our venue will be Vaccine required.', 'http://www.jacques-cabaret.com/v2/home.php', 'Jacques Cabaret features live entertainment seven nights a week!'], ['3', 'jacques cabaret boston', 'JACQUES CABARET - Performing Arts - 79 Broadway, Boston, MA', 'Jacques Cabaret · 79 Broadway. Boston, MA 02116. Directions · (617) 426-8902. Call Now · More Info. Hours, Wi-Fi, Gender Neutral Restrooms · From the Business.', 'https://www.yelp.com/biz/jacques-cabaret-boston', '228 reviews of Jacques Cabaret \"Jacques\\', you are a unique Boston landmark. Come here for kickass drag shows (Traniwreck, what?) and to see weirdo bands play in the shockingly putrid basement. I tell you, I don\\'t know what happened in the basement of Jacques\\', but it smells to high heaven. So if you\\'re seeing a band there, get trashed fast so you don\\'t notice the sewage ambience.\"'], ['3', 'jacques cabaret boston', 'Boston bar Jacques Cabaret requiring COVID vaccination cards due ...', 'Jul 26, 2021 ... Jacques Cabaret, a Boston bar, is requiring proof of vaccination to be maskless all of their shows starting Aug. 6 due to the recent uptick\\xa0...', 'https://www.masslive.com/coronavirus/2021/07/boston-bar-jacques-cabaret-requiring-covid-vaccination-cards-due-to-delta-variant.html', 'Those who do not want to show their vaccination card or are not vaccinated are required to wear their mask for the safety of their cast, employees and audience.'], ['3', 'jacques cabaret boston', 'Jacques (Boston) - 2022 All You Need to Know BEFORE You Go ...', 'we had a great time with the show. The cabaret style show was different from what I have experienced before but it was still entertaining. I was expecting real\\xa0...', 'https://www.tripadvisor.com/Attraction_Review-g60745-d109591-Reviews-Jacques-Boston_Massachusetts.html'], ['3', 'jacques cabaret boston', 'Jacques Cabaret Showbar (@jacquescabaret) • Instagram photos ...', \"Jacques Cabaret Showbar. Boston's oldest running gay bar & Premier Drag Show bar. Different shows 7 nights a week. Call club for table reservations.\", 'https://www.instagram.com/jacquescabaret/?hl=en', '1,675 Followers, 1,264 Following, 174 Posts - See Instagram photos and videos from Jacques Cabaret Showbar (@jacquescabaret)'], ['3', 'jacques cabaret boston', 'Jacques Cabaret - Bay Village - 21 tips', '\"Only the classiest of Boston Drag Queens for a fabulous night out.\"(4 Tips). Foursquare logo. See what your friends are saying about Jacques Cabaret.', 'https://foursquare.com/v/jacques-cabaret/4bde4f0cffdec9281174e8a1', 'Gay Bar in Boston, MA'], ['3', 'jacques cabaret boston', 'Jacques Cabaret - Nightlife & Things To Do in Boston - LikeALocal ...', 'There are many drag queens around Boston, but Jacques is the only place hosting true drag shows all week long. This off-beat dive of a joint is charming and\\xa0...', 'https://www.likealocalguide.com/boston/jacques-cabaret', 'There are many drag queens around Boston, but Jacques is the only place hosting true drag shows all week long. This off-beat dive of a joint is charming and small, so reservations are highly ...'], ['3', 'jacques cabaret boston', \"Jacques' Cabaret Boston, MA 02116 - 102 Reviews and Photos ...\", \"Latest reviews, photos and ratings for Jacques' Cabaret at 79 Broadway St in Boston - ⏰hours, ☎️phone number, ☝address and map.\", 'https://www.restaurantji.com/ma/boston/jacques-cabaret-/'], ['3', 'jacques cabaret boston', 'Free Parking & Garages Deals near Jacques Cabaret | SpotAngels ...', '79 Broadway, Boston, MA 02116, USA · 1 min walk - 82 Charles St S Boston. 132 Arlington St. Lot - $20. Cheapest Lot · 2 min walk - 17 Edgerly Place. Free of\\xa0...', 'https://www.spotangels.com/boston/jacques-cabaret-parking', \"Featured by Apple and Google as “Waze for parking”, SpotAngels is the world's largest community-based parking app. Find free parking, get garage deals and check street parking rules in NYC, SF, LA, Chicago, Boston, DC & 200 more cities. Join other drivers in your city & save time and money on parking!\"], ['3', 'jacques cabaret boston', \"Jacques' Cabaret Gay Bar in Boston. Details, directions, rating ...\", \"Jacques' Cabaret ... Jacque's Cabaret is a slightly offbeat and quirky bar that specialises in flamboyant drag and cabaret. It has dive vibes and is one of the\\xa0...\", 'https://gaymapper.com/Boston/venues/397', \"Jacques' Cabaret is a gay venue in Boston that is popular for MixedCrowd and GayFriendly. GayMapper has Jacques' Cabaret opening hours, information and location details\"], ['3', 'jacques cabaret boston', \"Jacque's Cabaret\", 'Jacques Cabaret features live entertainment seven nights a week! ... By order of the City of Boston Health Commission, our venue will be Vaccine required.', 'http://www.jacques-cabaret.com/v2/home.php', 'Jacques Cabaret features live entertainment seven nights a week!'], ['3', 'jacques cabaret boston', 'JACQUES CABARET - Performing Arts - 79 Broadway, Boston, MA', 'Jacques Cabaret · 79 Broadway. Boston, MA 02116. Directions · (617) 426-8902. Call Now · More Info. Hours, Wi-Fi, Gender Neutral Restrooms · From the Business.', 'https://www.yelp.com/biz/jacques-cabaret-boston', '228 reviews of Jacques Cabaret \"Jacques\\', you are a unique Boston landmark. Come here for kickass drag shows (Traniwreck, what?) and to see weirdo bands play in the shockingly putrid basement. I tell you, I don\\'t know what happened in the basement of Jacques\\', but it smells to high heaven. So if you\\'re seeing a band there, get trashed fast so you don\\'t notice the sewage ambience.\"'], ['3', 'jacques cabaret boston', 'Boston bar Jacques Cabaret requiring COVID vaccination cards due ...', 'Jul 26, 2021 ... Jacques Cabaret, a Boston bar, is requiring proof of vaccination to be maskless all of their shows starting Aug. 6 due to the recent uptick\\xa0...', 'https://www.masslive.com/coronavirus/2021/07/boston-bar-jacques-cabaret-requiring-covid-vaccination-cards-due-to-delta-variant.html', 'Those who do not want to show their vaccination card or are not vaccinated are required to wear their mask for the safety of their cast, employees and audience.'], ['3', 'jacques cabaret boston', 'Jacques (Boston) - 2022 All You Need to Know BEFORE You Go ...', 'we had a great time with the show. The cabaret style show was different from what I have experienced before but it was still entertaining. I was expecting real\\xa0...', 'https://www.tripadvisor.com/Attraction_Review-g60745-d109591-Reviews-Jacques-Boston_Massachusetts.html'], ['3', 'jacques cabaret boston', 'Jacques Cabaret Showbar (@jacquescabaret) • Instagram photos ...', \"Jacques Cabaret Showbar. Boston's oldest running gay bar & Premier Drag Show bar. Different shows 7 nights a week. Call club for table reservations.\", 'https://www.instagram.com/jacquescabaret/?hl=en', '1,675 Followers, 1,264 Following, 174 Posts - See Instagram photos and videos from Jacques Cabaret Showbar (@jacquescabaret)'], ['3', 'jacques cabaret boston', 'Jacques Cabaret - Bay Village - 21 tips', '\"Only the classiest of Boston Drag Queens for a fabulous night out.\"(4 Tips). Foursquare logo. See what your friends are saying about Jacques Cabaret.', 'https://foursquare.com/v/jacques-cabaret/4bde4f0cffdec9281174e8a1', 'Gay Bar in Boston, MA'], ['3', 'jacques cabaret boston', 'Jacques Cabaret - Nightlife & Things To Do in Boston - LikeALocal ...', 'There are many drag queens around Boston, but Jacques is the only place hosting true drag shows all week long. This off-beat dive of a joint is charming and\\xa0...', 'https://www.likealocalguide.com/boston/jacques-cabaret', 'There are many drag queens around Boston, but Jacques is the only place hosting true drag shows all week long. This off-beat dive of a joint is charming and small, so reservations are highly ...'], ['3', 'jacques cabaret boston', \"Jacques' Cabaret Boston, MA 02116 - 102 Reviews and Photos ...\", \"Latest reviews, photos and ratings for Jacques' Cabaret at 79 Broadway St in Boston - ⏰hours, ☎️phone number, ☝address and map.\", 'https://www.restaurantji.com/ma/boston/jacques-cabaret-/'], ['3', 'jacques cabaret boston', 'Free Parking & Garages Deals near Jacques Cabaret | SpotAngels ...', '79 Broadway, Boston, MA 02116, USA · 1 min walk - 82 Charles St S Boston. 132 Arlington St. Lot - $20. Cheapest Lot · 2 min walk - 17 Edgerly Place. Free of\\xa0...', 'https://www.spotangels.com/boston/jacques-cabaret-parking', \"Featured by Apple and Google as “Waze for parking”, SpotAngels is the world's largest community-based parking app. Find free parking, get garage deals and check street parking rules in NYC, SF, LA, Chicago, Boston, DC & 200 more cities. Join other drivers in your city & save time and money on parking!\"], ['3', 'jacques cabaret boston', \"Jacques' Cabaret Gay Bar in Boston. Details, directions, rating ...\", \"Jacques' Cabaret ... Jacque's Cabaret is a slightly offbeat and quirky bar that specialises in flamboyant drag and cabaret. It has dive vibes and is one of the\\xa0...\", 'https://gaymapper.com/Boston/venues/397', \"Jacques' Cabaret is a gay venue in Boston that is popular for MixedCrowd and GayFriendly. GayMapper has Jacques' Cabaret opening hours, information and location details\"], ['4', 'haunted boston ghost tours boston', 'Boston Ghost Tours | Boston Haunted Tours — Ghosts & Gravestones', \"What haunted places does the ghost tour visit? ... You'll drive past Boston's most haunted hotel: The Omni Parker House, a haunted theater: Emerson's Cutler\\xa0...\", 'https://www.ghostsandgravestones.com/boston', \"Voted one of the Best Boston Ghost Tours for a Frightfully Good Time that's guaranteed to raise your spirits. Not all Boston Haunted Tours are created equal.\"], ['4', 'haunted boston ghost tours boston', 'Boston Ghost Tours | Boston Haunted Tours', \"Old Town Trolley Tours invites you to explore Boston's darker side aboard the city's only “frightseeing” ghost tour, Ghosts & Gravestones.\", 'https://www.trolleytours.com/boston/ghost-tours', 'Experience 400 years of haunted history with our exclusive Boston ghost tours. Explore haunted graveyards and learn about spooky legends of the past.'], ['4', 'haunted boston ghost tours boston', 'Haunted Boston Ghost Tours', 'Step through the shadows and discover the chilling and ghastly tales of murder, revenge, lust, and heartache... Haunted Boston Ghost Tours\\xa0...', 'https://www.hauntedboston.com/'], ['4', 'haunted boston ghost tours boston', 'Boston Ghost Tours | Haunted Tours from Ghost City Tours', 'Our All Ages Ghost Tour. Ghosts of Boston Tour. 8 pm | 90 Minutes All Ages Pet-Friendly ; Our Adults Only Ghost Tour. Death and Dying in Boston Tour. 9 pm | 90\\xa0...', 'https://ghostcitytours.com/ghost-tours/boston-ghost-tours/', 'Join Ghost City Tours for a ghost tour of the most haunted places in Boston. Our tours run nightly. We offer great ghost tours for the kids, and Adult Only Ghost Tours.'], ['4', 'haunted boston ghost tours boston', 'THE TOP 10 Boston Ghost Tours (w/Prices)', 'Haunted Boston Ghost and Pub Walking Tour ... Unearth the spooky history of Boston on this 2.5-hour guided ghost tour and pub crawl. A costumed guide will lead\\xa0...', 'https://www.viator.com/Boston-tours/Ghost-and-Vampire-Tours/d678-g4-c118'], ['4', 'haunted boston ghost tours boston', '9 Spookiest Ghost Tours in Boston | New England With Love', 'The Boston Ghosts & Gravestones Night-Time Trolley Tour is about two hours long. Instead of it being a sightseeing\\xa0...', 'https://newenglandwithlove.com/ghost-tours-in-boston/', \"No matter the time of year, ghost tours in Boston are always a good idea. Check out this post to see all the best options to explore Boston's haunts!\"], ['4', 'haunted boston ghost tours boston', 'Haunted Boston Ghost Tours - 2022 All You Need to Know BEFORE ...', 'We really enjoyed the tour. Meaghan was a wonderful tour guide. Thank you for sharing the history of Boston with us. ... I feel bad rating this \"terrible\" but the\\xa0...', 'https://www.tripadvisor.com/Attraction_Review-g60745-d1770868-Reviews-Haunted_Boston_Ghost_Tours-Boston_Massachusetts.html'], ['4', 'haunted boston ghost tours boston', 'Boston Ghost Tours - Haunted Pub Crawl - Nightly Spirits', \"At Nightly Spirits, our Boston ghost tours are an experience that you won't soon forget! A combination of ghost tour and pub crawl that will take you on a\\xa0...\", 'https://nightlyspirits.com/boston-ghost-tours/', 'Boston is known for its haunted history. Why not make a fun night out of it? With Nightly Spirits, our Boston ghost tours are some of the most thrilling in the city.'], ['4', 'haunted boston ghost tours boston', 'Haunted Boston Ghost Tours - Home | Facebook', 'Haunted Boston Ghost Tours · Come on a walking tour that takes you through the historic and haunted streets of Boston in search of the countless ghosts rumored\\xa0...', 'https://www.facebook.com/hauntedbostontours/', 'Haunted Boston Ghost Tours. 632 likes · 1 talking about this · 761 were here. Come on a walking tour that takes you through the historic and haunted streets of Boston in search of the countless...'], ['4', 'haunted boston ghost tours boston', 'HAUNTED BOSTON GHOST TOURS - 32 Photos & 174 Reviews ...', '174 reviews of Haunted Boston Ghost Tours \"essentially, you\\'re taken on a 90-minute walking tour to different areas of boston common and told stories of the\\xa0...', 'https://www.yelp.com/biz/haunted-boston-ghost-tours-boston', '174 reviews of Haunted Boston Ghost Tours \"essentially, you\\'re taken on a 90-minute walking tour to different areas of boston common and told stories of the past in the dark of night.   the tour ended at the omni parker hotel.   don\\'t worry, our guide took us to areas which allowed us to sit during the tour as we listened to his stories.\\n\\nwe picked this over the ghost and gravestones tour because that one looked cheesey.  haunted boston didn\\'t have any theatrics or cheese.   our tour guide, jeff, was a great story teller.   oh, yeah, it\\'s half the price of the other tour so be sure to tip your guide generously.  :)\\n\\ndefinitely worth $15 (with the $3 discount) to be spooked.  :)\"'], ['5', 'escape the room boston boston', 'Escape The Room Boston | #1 Rated Escape Room Experience', 'Escape The Room Boston is an unconventional twist on a live-action video game in which you unlock clues and hidden messages to escape a challenging scenario\\xa0...', 'https://escapetheroom.com/boston/', 'The #1 rated escape room game in Boston. Find the clues, solve the puzzles, escape the room before time runs out. Do you have what it takes to get out?'], ['5', 'escape the room boston boston', 'Best Boston Escape Room - Trapology Boston - Trapology Boston', 'Our indoor escape the room games are currently the best escape games in Boston. We have six escape the room style games at this time. The Drunk Tank, The\\xa0...', 'https://trapologyboston.com/'], ['5', 'escape the room boston boston', 'Boston Escape Rooms: Details On Our Great Escape Games', \"Escape The Room's three exclusive escape rooms are like no game you've ever played. You'll have to use your powers of observation, cunning, and wit to be able\\xa0...\", 'https://escapetheroom.com/boston/rooms/', 'Find out a bit more about the rooms within Escape The Room Boston. Will you play The Dig, The Apartment or The Clocktower first?'], ['5', 'escape the room boston boston', 'Escape the Room Boston - Home | Facebook', 'Escape the Room is a fun, real life game that takes place Boston. While it looks like any other... 33 West St, Boston, MA 02111.', 'https://www.facebook.com/pages/category/Escape-Game-Room/Escape-the-Room-Boston-772881386093091/', \"Escape the Room Boston. 11,347 likes · 9 talking about this · 15,866 were here. Escape the Room is a fun, real life game that takes place Boston. While it looks like any other ordinary room, it's...\"], ['5', 'escape the room boston boston', '#1 Escape Room In Boston | Breakout Games® Official Site', 'Play the top Boston escape rooms. For 60 minutes, experience 5-star immersive entertainment with friends and family, escape normal life, and be the hero of\\xa0...', 'https://breakoutgames.com/boston', 'Play the top Boston escape room. Experience 5-star immersive entertainment with friends and family for 60 minutes. Escape normal life and Be the Hero.'], ['5', 'escape the room boston boston', \"Room Escape Boston | Boston's Top Rated Room Escapes ...\", \"Jump into Boston's largest and most immersive room escape adventures! Hour-long escapes through 2 different multi-room games!\", 'https://www.roomescapeboston.com/', \"Jump into Boston's largest\\xa0and\\xa0most immersive room escape adventures! Hour-long escapes through 2 different multi-room games!\"], ['5', 'escape the room boston boston', 'ESCAPE THE ROOM BOSTON - 18 Photos & 172 Reviews - Escape ...', 'Escape The Room Boston · 33 West St. Fl 3 Boston, MA 02111. Downtown. Directions · (857) 256-1174. Call Now · More Info. Hours, Accepts Credit Cards, Parking,\\xa0...', 'https://www.yelp.com/biz/escape-the-room-boston-boston', '172 reviews of Escape The Room Boston \"We had a great time at Escape the Room Boston! Having not experienced any type of event like this before, I think my entire group went into this not really knowing what to expect. But I would say that each one of us left having thoroughly enjoyed ourselves, and wanting to go back once they start creating different rooms and puzzles.\\n\\nThe more, the merrier is recommended for this type of thing - it\\'s so interesting to see how everyone\\'s brains work differently when put to a challenge. And teamwork is key! My group of 5 was paired with 2 others who had RSVP\\'d for the same time, and it was totally cool despite being slightly undecided on how I felt about that scenario before the game began (so don\\'t let that scare you!)\\n\\nEscape the Room was a welcome wild card to my weekend - totally unlike anything I would normally make plans to do, lots of fun, well planned ... just good honest fun that gets your brain working. Bravo!\"'], ['5', 'escape the room boston boston', 'THE 10 BEST Boston Room Escape Games (with Photos) - Tripadvisor', 'Room Escape Games in Boston · 1. Room Escapers · 2. Escape The Room Boston · 3. Trapology Boston · 4. Boxaroo · 5. Komnata Quest Boston · 6. Boston Hysterical Society.', 'https://www.tripadvisor.com/Attractions-g60745-Activities-c56-t208-Boston_Massachusetts.html', 'Top Boston Room Escape Games: See reviews and photos of Room Escape Games in Boston, Massachusetts on Tripadvisor.'], ['5', 'escape the room boston boston', 'Room Escapers Boston – Our Boston Escape Room Games are ...', 'Room Escapers Boston offers challenging, interactive escape rooms and immersive theater experiences at two downtown Boston locations: in the Old Corner\\xa0...', 'https://roomescapersboston.com/', 'Room Escapers Boston offers challenging, interactive adventures and escape rooms at two downtown Boston locations: in the Old Corner Bookstore and in the Blackstone District.  Our escape games are top rated by escape game enthusiasts and novices alike! Large spaces, immersive designs, unique puzzles and exciting story lines make for one of kind experiences. Our spacious lobby is great for company or group team building, events and parties.  From daring shipwreck scavenges, cracking the case on organized crime, to mastering the principles of alchemy, our themes are based on real events and happenings in Boston’s rich history. Room Escapers is a locally owned Boston based company – both locations are conveniently located on the Freedom Trail.'], ['5', 'escape the room boston boston', '10 Best Escape Rooms in Boston - Escape Room Tips', \"#1. Storyteller's Secret – Boxaroo · #2. Conundrum Museum – Boxaroo · #3. Clock Tower – Escape the Room Boston · #4. Magician's Study – Boxaroo · #5. Panacea – Room\\xa0...\", 'https://escaperoomtips.com/top/boston-escape-rooms', 'Looking for a Boston escape room? We’ve done 13+ escape rooms in Boston itself and update this list whenever we’re back in the area. Here are our top-recommended escape rooms in Boston: (temp. closed)\\xa0Storyteller’s Secret (2-5p, $38-44, private) – Boxaroo Conundrum Museum\\xa0(4-10p, $32, public) – Boxaroo Clock Tower (2-10p, $30, public) – Escape the Room... Continue Reading →'], ['6', 'the lawn on d boston', 'The Lawn On D - Home | Signature Boston', \"Welcome to The Lawn On D Powered by Citizens, Boston's most innovative and dynamic outdoor event space in the heart of the thriving Waterfront District!\", 'https://www.signatureboston.com/lawn-on-d'], ['6', 'the lawn on d boston', 'The Lawn On D Powered by Citizens - Home | Facebook', 'A first-of-its-kind outdoor interactive space in Boston, The Lawn on D Powered by Citizens is a 2.7-acre outdoor experimental event landscape designed to\\xa0...', 'https://www.facebook.com/thelawnonD/', 'The Lawn On D Powered by Citizens, Boston, Massachusetts. 40,134 likes · 13 talking about this · 84,529 were here. This page is updated regularly to reflect changes in open hours due to private...'], ['6', 'the lawn on d boston', 'Lawn On D - Calendar | Signature Boston', 'Sign up for The Lawn On D Newsletter. Your email address: Submit. Book Your Event · Massachusetts Convention Center Authority. Boston USA\\xa0...', 'https://www.signatureboston.com/lawn-on-d/calendar'], ['6', 'the lawn on d boston', 'The Lawn on D – Sasaki', \"The Lawn on D Powered by Citizens Bank is a permanent and beloved fixture in Boston's Seaport neighborhood. Its sponsorship and robust programming has\\xa0...\", 'https://www.sasaki.com/projects/the-lawn-on-d/', \"A flexible, vibrant public hub for arts, events, and play, that helps open up Boston's Seaport neighborhood as an increasingly inclusive and lively place\"], ['6', 'the lawn on d boston', 'About Us | Signature Boston', 'The Lawn On D is an event space designed for both public and private events and to encourage community engagement, foster creativity and integrate the Boston\\xa0...', 'https://www.signatureboston.com/lawn-on-d/about-us'], ['6', 'the lawn on d boston', 'The Lawn On D (Boston) - 2022 All You Need to Know BEFORE You ...', \"The Lawn On D Powered by Citizens is Boston's most innovative and vibrant seasonal outdoor venue in the heart of the thriving South Boston Waterfront\\xa0...\", 'https://www.tripadvisor.com/Attraction_Review-g60745-d8525619-Reviews-The_Lawn_On_D-Boston_Massachusetts.html'], ['6', 'the lawn on d boston', 'The Lawn On D (@lawnond) / Twitter', \"The Lawn On D Powered by Citizens is Boston's most innovative and dynamic outdoor event space in the heart of the thriving Waterfront District.\", 'https://twitter.com/lawnond?lang=en', \"The Lawn On D Powered by Citizens is Boston's most innovative and dynamic outdoor event space in the heart of the thriving Waterfront District.\"], ['6', 'the lawn on d boston', \"To Do Today: Unwind at Seaport's Lawn on D | BU Today | Boston ...\", \"Jul 26, 2021 ... When it comes to scouting out a lively, grassy place to bask in on a summer's day, you won't do much better than Lawn on D. The nearly three-\\xa0...\", 'https://www.bu.edu/articles/2021/to-do-today-unwind-at-seaports-lawn-on-d/', 'Interactive green space offers lawn games, giant neon swings, and outdoor dining'], ['6', 'the lawn on d boston', 'The Lawn On D (@lawnond) • Instagram photos and videos', \"The Lawn On D. Check story for closures & updates! #Boston's most innovative and dynamic outdoor event space in the heart of the thriving Waterfront\\xa0...\", 'https://www.instagram.com/lawnond/?hl=en', '18.9k Followers, 435 Following, 717 Posts - See Instagram photos and videos from The Lawn On D (@lawnond)'], ['6', 'the lawn on d boston', 'THE LAWN ON D - 299 Photos & 150 Reviews - 420 D St, Boston, MA', '150 reviews of The Lawn On D \"The Seaport District and City of Boston did a great job creating a public space that took into consideration of the residents\\xa0...', 'https://www.yelp.com/biz/the-lawn-on-d-boston', '150 reviews of The Lawn On D \"The Seaport District and City of Boston did a great job creating a public space that took into consideration of the residents in the area.  The Lawn on D is a cement area with a covered tent and large grass area.  It doesn\\'t seem like much on the description.  The Lawn on D hires food trucks to come by, live bands under the tent that also serves alcohol and cornhole, bocce, frisbee, table tennis on the lawn area. \\n\\nThe area is open till 11pm till Mid-October and includes lots of seating on the lawn.  This outdoor space really provides an extra living space for residents of the seaport and new condo buildings in the area.  Especially for those residents who don\\'t have a private outdoor space. This space still allows citizens to do almost everything they want in their own backyards, well except BBQing, you can also bring your own lawn games to add to the mix.\"'], ['7', 'charles river canoe and kayak cambridge 2', 'Paddle Boston - Charles River Canoe & Kayak :: Sales, Rentals ...', 'Paddle Boston provides the Boston, Massachusetts area with outdoor paddlesport recreation, canoe and kayak rentals and sales, canoe and kayak classes and\\xa0...', 'https://paddleboston.com/', \"Paddle Boston provides the Boston, Massachusetts area with outdoor paddlesport recreation, canoe and kayak rentals and sales, canoe and kayak classes and instruction, guided tours and trips, a full-service paddling store, kid's paddling camps and more.\"], ['7', 'charles river canoe and kayak cambridge 2', 'CHARLES RIVER CANOE & KAYAK - 124 Photos & 128 Reviews ...', '128 reviews of Charles River Canoe & Kayak \"I am a longtime fan and ... My best friend and I had the best time catching up and paddling through Cambridge.', 'https://www.yelp.com/biz/charles-river-canoe-and-kayak-cambridge-2', 'COVID update: Charles River Canoe & Kayak has updated their hours and services. 128 reviews of Charles River Canoe & Kayak \"I am a longtime fan and season passholder of CRCK, and have logged many hours at their Newton and Allston locations. Newton has the retail store, the classes, and the best choice of boats, Allston is in a big city park and has lots of parking, but Kendall can\\'t be beat for the view or the location. It is literally a five-minute walk from the T, and since I live on the Red Line, I\\'m a very happy kayaker. There are restaurants in all price ranges nearby, and now they even have a Christina\\'s ice cream stand. CRCK will also take on huge groups with some notice, and they lead tours from this location, too. Oh, and there are kid-sized paddles, boats, and life vests.\\n\\nOne thing to know about renting from Kendall: the water here can get much choppier than at the other locations, simply because the lower basin is so much wider than the other parts of the Charles. The wind whips in from the harbor'], ['7', 'charles river canoe and kayak cambridge 2', 'Charles River Canoe & Kayak :: Sales, Rentals ... - Paddle Boston', \"Rent a Paddleboard, Canoe, or Kayak in Cambridge on the Charles River. PaddleBoston offers hourly rentals, instruction, guided tours and kid's programs.\", 'https://paddleboston.com/rentals/our-locations/cambridge-at-kendall-square/', \"Rent a Paddleboard, Canoe, or Kayak in Cambridge on the Charles River. PaddleBoston offers hourly rentals, instruction, guided tours and kid's programs.\"], ['7', 'charles river canoe and kayak cambridge 2', 'Charles River Canoe & Kayak Cambridge at Kendall Square - 2022 ...', 'Reviews · Excellent 35 · Very Good 12 · Average 2 · Poor 0 · Terrible 0.', 'https://www.tripadvisor.com/Attraction_Review-g60890-d1918719-Reviews-Charles_River_Canoe_Kayak_Cambridge_at_Kendall_Square-Cambridge_Massachusetts.html'], ['7', 'charles river canoe and kayak cambridge 2', 'Paddle Boston - Charles River Canoe & Kayak - Home | Facebook', 'PADDLE BOSTON specializes in canoe, kayak, and stand-up paddleboard rentals in Boston (Allston/Brighton), Cambridge (Kendall Square), Somerville: Mystic\\xa0...', 'https://www.facebook.com/CharlesRiverCanoeKayak/', 'Paddle Boston - Charles River Canoe & Kayak, Waltham, Massachusetts. 8 likes. Charles River Canoe and Kayak  - On the water, every day'], ['7', 'charles river canoe and kayak cambridge 2', 'Charles River Canoe and Kayak - Boston MA, 02134', \"See Boston from a whole new perspective! Charles River Canoe & Kayak has five rental locations, including Kendall Square in Cambridge and Soldier's Field\\xa0...\", 'https://www.bostonusa.com/listing/charles-river-canoe-and-kayak/12143/', \"See Boston from a whole new perspective! Charles River Canoe & Kayak has five rental locations, including Kendall Square in Cambridge and Soldier's Field Road in Allston/Brighton (Boston). Our Kendall Square location is just a 5-minute walk from the Red Line (Kendall/MIT)! We offer hourly/daily rentals of kayaks and canoes, plus amazing guided tours. Try our Skyline, Sunset, Barbeque, or Harbor Tours to revel in the best skyline view in Boston and explore the rich history of the area. Visit us online at PaddleBoston.com for directions, rates, and tour reservation information.\"], ['7', 'charles river canoe and kayak cambridge 2', 'Charles River - Wikipedia', 'A canoe and kayak ADA-accessible launch at Magazine Beach in Cambridge opened 23 September 2019. The Charles is renowned as a rowing and sculling locale, with\\xa0...', 'https://en.wikipedia.org/wiki/Charles_River'], ['7', 'charles river canoe and kayak cambridge 2', 'Charles River Reservation | Mass.gov', 'Boating. Travel along the Charles River by boat, canoe or kayak as you enjoy a unique view of the city.', 'https://www.mass.gov/locations/charles-river-reservation', 'This 20-mile reservation stretches along the Charles River and offers plenty of activities, from picnics and playgrounds to sports fields, boating, and bike paths.'], ['7', 'charles river canoe and kayak cambridge 2', 'Charles River Kayak experience was awesome - Review of Charles ...', 'Charles River Canoe & Kayak Cambridge at Kendall Square. 49 Reviews. #2 of 2 Boat Tours & Water Sports in Cambridge · Tours, Boat Tours & Water Sports,\\xa0...', 'https://www.tripadvisor.co.nz/ShowUserReviews-g60890-d1918719-r288276441-Charles_River_Canoe_Kayak_Cambridge_at_Kendall_Square-Cambridge_Massachusetts.html', 'Charles River Canoe & Kayak Cambridge at Kendall Square: Charles River Kayak experience was awesome - See 49 traveller reviews, 35 candid photos, and great deals for Cambridge, MA, at Tripadvisor.'], ['7', 'charles river canoe and kayak cambridge 2', 'Glass House, Cambridge. Restaurant Info, Reviews, Photos - KAYAK', \"Glass House is located in Kendall Square, next to Charles River Canoe and Kayak and the Pilgrim Parking Garage. Once the center of the nation's glass-making\\xa0...\", 'https://www.kayak.com/Cambridge-Restaurants-Glass-House.100033225.rd.ksp', 'Book a table now at Glass House, Cambridge on KAYAK and check out their information, 8 photos and 1,523 unbiased reviews from real diners.'], ['8', 'urban axes somerville somerville', 'Boston Axe Throwing', 'Contact. 2 Union Square, Somerville, MA 02143 (857) 997-0025 · Parking. There is limited parking on site and additional paid street parking in the area, ride\\xa0...', 'https://urbanaxes.com/locations/boston', 'Boston’s original home of competitive axe throwing since 2018!'], ['8', 'urban axes somerville somerville', 'Urban Axes - Home | Facebook', '2 Union Square, Somerville, MA 02143. Get Directions. 8,100 people checked in here. http://www.urbanaxes.com/boston. (857) 997-0025. Sports & Recreation.', 'https://www.facebook.com/urbanaxesboston/', 'Urban Axes. 1,997 likes · 32 talking about this · 8,100 were here. Sports & recreation'], ['8', 'urban axes somerville somerville', 'Urban Axes', \"America's home of competitive axe throwing since 2016. Join a league, or grab your friends and see who can hit the most bullseyes. Book now!\", 'https://urbanaxes.com/', 'America’s home of competitive axe throwing since 2016. Join a league, or grab your friends and see who can hit the most bullseyes. Book now!'], ['8', 'urban axes somerville somerville', 'URBAN AXES - SOMERVILLE - 71 Photos & 101 Reviews - Axe ...', 'Urban Axes - Somerville · 2 Union Square. Somerville, MA 02143. Directions · (857) 997-0025. Call Now · More Info. Hours, Parking, Bike Parking, Wheelchair\\xa0...', 'https://www.yelp.com/biz/urban-axes-somerville-somerville', '101 reviews of Urban Axes - Somerville \"I came here on a Sunday afternoon at 2 with a group of 4 as a walk in (only groups of 5+ can reserve time) and we did have to wait an hour but you can sit at the bar and hang out. Everyone who was working that day was super friendly and engaged and made sure we were all having fun\"'], ['8', 'urban axes somerville somerville', 'Frequently Asked Questions', 'You got questions? We got answers! Find out more about indoor competitive axe throwing at Urban Axes.', 'https://urbanaxes.com/faq', 'You got questions? We got answers! Find out more about indoor competitive axe throwing at Urban Axes'], ['8', 'urban axes somerville somerville', 'Urban Axes Ax-Throwing Bar Opens in Somerville - Eater Boston', 'Dec 4, 2018 ... The time is nigh: The first ax-throwing bar in the immediate Boston area debuts this weekend, although without the bar part for now.', 'https://boston.eater.com/2018/12/4/18126018/urban-axes-somerville-ax-throwing-bar-opens', 'Somerville’s first ax-throwing bar, Urban Axes, arrives this weekend'], ['8', 'urban axes somerville somerville', 'Choose your location to book', \"Urban Axes is a founding member of the International Axe Throwing Federation. IATF Logo badge in white. 2020 Urban Sports Ventures LLC. Site by P'unk Ave.\", 'https://urbanaxes.com/locations'], ['8', 'urban axes somerville somerville', 'You Can Now Throw Axes for Fun at Urban Axes in Somerville', 'Dec 10, 2018 ... Urban Axes, a Philadelphia-based chain, just opened its fifth national location in Somerville. The facility, which spans 7,500-square feet,\\xa0...', 'https://www.bostonmagazine.com/health/2018/12/10/urban-axes-somerville/', 'At Urban Axes in Union Square.'], ['8', 'urban axes somerville somerville', 'Urban Axes Boston (Somerville) - 2022 All You Need to Know ...', \"Urban Axes Boston, Somerville: Hours, Address, Urban Axes Boston Reviews: 5/5 ... Urban Axes is America's first and premiere indoor axe throwing venue.\", 'https://www.tripadvisor.com/Attraction_Review-g41818-d15619704-Reviews-Urban_Axes_Boston-Somerville_Massachusetts.html'], ['8', 'urban axes somerville somerville', 'Urban Axes opens in Somerville - Boston Business Journal', 'Dec 6, 2018 ... Urban Axes, which opens Friday, is the latest Bay State watering hole to go beyond drinks and barstools. Multiple arcades and wine bars where\\xa0...', 'https://www.bizjournals.com/boston/news/2018/12/06/sharpen-your-axe-throwing-skills-at-this-new.html', '\"There\\'s something a little primal-feeling when you hit that first bullseye,\" Urban Axes co-owner Krista Paton said.'], ['9', 'cambridge center roof garden cambridge', 'Cambridge Center Roof Garden - Cambridge Office for Tourism', 'Go to the parking garage at 4 Cambridge Center and follow the signs to a lovely green oasis with an excellent view of the city: an actual secret garden!', 'https://www.cambridgeusa.org/listing/cambridge-center-roof-garden', \"Here's a little secret; Cambridge has a secret rooftop garden in Kendall Square. Located at 4 Cambridge Center, this rooftop garden offers stunning views of Kendall Square, Boston and Cambridge.\"], ['9', 'cambridge center roof garden cambridge', 'CAMBRIDGE CENTER ROOF GARDEN - TEMP. CLOSED - 101 ...', '61 reviews of Cambridge Center Roof Garden - Temp. CLOSED \"Escape from your desk to this wonderful paradise! Grab your lunch from the Kendall food court and\\xa0...', 'https://www.yelp.com/biz/cambridge-center-roof-garden-cambridge', '61 reviews of Cambridge Center Roof Garden - Temp. CLOSED \"Escape from your desk to this wonderful paradise! Grab your lunch from the Kendall food court and then head over to the adjoining parking lot. Step into the elevator and press the \"R\" button for roof. In just moments the door will open up onto a lush landscape of trees and benches protected from the exhaust and city noise below!\\n\\nIts a lovely place to eat and is ALSO one of the oldest sustainable roofs in Cambridge. The flower patches, shrubs and fully grown trees help provide the garage below with drainage when it rains!\"'], ['9', 'cambridge center roof garden cambridge', 'Kendall Square Rooftop Garden – Kendall Center', 'The existing roof garden, located on top of the Kendall Center green garage, will close in April 2020 as we begin construction of a new and enhanced public\\xa0...', 'https://www.kendallcenter.com/events-public-programs/roof-garden/'], ['9', 'cambridge center roof garden cambridge', 'Cambridge Center Roof Garden - 2022 All You Need to Know ...', 'A lovely rooftop garden on top of a parking garage. Go figure! Benches and even ping pong. Nice to stop and have a coffee in the middle of the hubbub.', 'https://www.tripadvisor.com/Attraction_Review-g60890-d2698255-Reviews-Cambridge_Center_Roof_Garden-Cambridge_Massachusetts.html'], ['9', 'cambridge center roof garden cambridge', 'Kendall Center', 'Location; Events & Public Programs. Kendall Plaza · Kendall Square Rooftop Garden · Sustainability Programs · Art · Galaxy Park.', 'https://www.kendallcenter.com/'], ['9', 'cambridge center roof garden cambridge', 'Visit Cambridge Center Roof Garden in MIT | Expedia', \"Explore the Cambridge Center Roof Garden when you travel to MIT - Expedia's Cambridge Center Roof Garden information guide keeps you in the know!\", 'https://www.expedia.com/Cambridge-Center-Roof-Garden-MIT.d553248621532667778.Vacation-Attraction', 'Explore the Cambridge Center Roof Garden when you travel to MIT - Expedia&apos;s Cambridge Center Roof Garden information guide keeps you in the know!'], ['9', 'cambridge center roof garden cambridge', 'Kendall rooftop garden to be razed for redesign, but its plants are ...', \"Jul 1, 2020 ... Kendall Square's rooftop garden is getting redone as part of a larger project at 325 ... according to the Cambridge Redevelopment Authority.\", 'https://www.cambridgeday.com/2020/07/01/kendall-rooftop-garden-to-be-razed-for-redesign-but-its-plants-are-getting-out-alive-with-residents/', 'Kendall Square’s rooftop garden is getting redone as part of a larger project at 325 Main St., but the garden’s plants won’t suffer – many are being taken away Thursday by residents to be cared for at home, according to the Cambridge Redevelopment Authority.'], ['9', 'cambridge center roof garden cambridge', 'Cambridge Center Roof Garden | Roof garden, Garden, Places in ...', 'Jul 4, 2015 - Read 15 tips and reviews from 520 visitors about escape, picnic tables and hidden gem. \"Excellent lunch spot on a sunny day with picnic tables\\xa0...', 'https://www.pinterest.com/pin/411023903469791247/', 'Jul 4, 2015 - Read 15 tips and reviews from 520 visitors about escape, picnic tables and hidden gem. \"Excellent lunch spot on a sunny day with picnic tables big...\"'], ['9', 'cambridge center roof garden cambridge', 'Cambridge Center Roof Garden travel guidebook –must visit ...', \"Cambridge Center Roof Garden: 2020 Top Things to Do in Cambridge. Cambridge Center Roof Garden travelers' reviews, business hours, introduction, open hours.\", 'https://www.trip.com/travel-guide/attraction/cambridge/cambridge-center-roof-garden-58288020/', \"Cambridge Center Roof Garden: 2020 Top Things to Do in Cambridge. Cambridge Center Roof Garden travelers' reviews, business hours, introduction, open hours. Check out updated best hotels & restaurants near Cambridge Center Roof Garden.\"], ['9', 'cambridge center roof garden cambridge', 'Cambridge Center Roof Garden seen from top of parking garage ...', 'May 27, 2014 - Cambridge Center Roof Garden seen from top of parking garage across the street.', 'https://www.pinterest.com/pin/453948837412927616/', 'May 27, 2014 - Cambridge Center Roof Garden seen from top of parking garage across the street.'], ['10', 'lucky strike somerville somerville', 'Somerville - Lucky Strike', 'Lucky Strike Somerville combines Bowling, the best chef-driven food, the best craft beverages and amazing gmaes into 1 venue with 2 levels of fun!', 'https://www.luckystrikeent.com/locations/somerville/', 'Lucky Strike Somerville combines Bowling, the best chef-driven food, the best craft beverages and amazing gmaes into 1 venue with 2 levels of fun!'], ['10', 'lucky strike somerville somerville', 'Lucky Strike Social | Bowling, Food & Drinks | Assembly Row', 'Lucky Strike Social combines Lucky Strike Lanes, For The Win (FTW), Modern Round, exceptional chef-driven food and craft beverages ... Somerville MA, 02145\\xa0...', 'https://assemblyrow.com/entertainment/lucky-strike-social/', 'Lucky Strike Social combines Lucky Strike Lanes, For The Win (FTW), Modern Round, exceptional chef-driven food and craft beverages in one fully immersive venue. Occupying two levels, Lucky Strike Social spans 36,000 square-feet of space.'], ['10', 'lucky strike somerville somerville', 'Lucky Strike Somerville - Home | Facebook', 'Lucky Strike Somerville · 325 Revolution Dr 1128, Somerville, MA 02145. Get Directions · Rating · 4. (75 reviews) · 8,220 people checked in here · (857) 997-8000.', 'https://www.facebook.com/luckysocialsom/', 'Lucky Strike Somerville, Somerville. 1,223 likes · 30 talking about this · 8,220 were here. Official Facebook of Lucky Strike Somerville.'], ['10', 'lucky strike somerville somerville', 'Somerville', 'Lucky Strike Somerville does not accept reservations. Just come on by! Want to Plan a Party ? Click on the link below. Groups of 9 or more submit an inquiry\\xa0...', 'https://reserve.luckystrikeent.com/reservation?venue=Somerville'], ['10', 'lucky strike somerville somerville', 'Lucky Strike Somerville - 2022 All You Need to Know BEFORE You ...', 'Lucky Strike Somerville ... Lucky Strike combines Lucky Strike Lanes, For The Win (FTW), Modern Round, exceptional chef-driven food, and craft beverages in one\\xa0...', 'https://www.tripadvisor.com/Attraction_Review-g41818-d14008677-Reviews-Lucky_Strike_Somerville-Somerville_Massachusetts.html'], ['10', 'lucky strike somerville somerville', 'LUCKY STRIKE - SOMERVILLE - 105 Photos & 163 Reviews ...', 'Request a Quote · 325 Revolution Dr. Ste 1128 Somerville, MA 02145 · (617) 865-0177 · Visit Website. http://luckystrikeent.com · View offerings · More Info. Hours,\\xa0...', 'https://www.yelp.com/biz/lucky-strike-somerville-somerville', '163 reviews of Lucky Strike - Somerville \"Damn! This place is hot and happening! Lots of games to play... cocktails a flowing... and foods! Come check this place out if you\\'re around! Also $25 playcard!!\"'], ['10', 'lucky strike somerville somerville', \"Rock & Bowl New Year's Eve at Lucky Strike Somerville Tickets, Fri ...\", \"Dec 31, 2021 ... Eventbrite - Lucky Strike Social Somerville presents Rock & Bowl New Year's Eve at Lucky Strike Somerville - Friday, December 31,\\xa0...\", 'https://www.eventbrite.com/e/rock-bowl-new-years-eve-at-lucky-strike-somerville-tickets-214853481547'], ['10', 'lucky strike somerville somerville', 'Menus for Lucky Strike Somerville - Somerville - SinglePlatform', 'Food ; Starters · Salt & Pepper Calamari. $14.00. Basil Aioli. Hoisin Glazed Chicken Wings. $14.00. Tangy Asian BBQ sauce. Nacho Tower ; Sandwiches · Served with\\xa0...', 'http://places.singleplatform.com/lucky-strike-social---somerville/menu', 'Online menus, items, descriptions and prices for Lucky Strike Somerville - Restaurant - Somerville, US-MA 02145'], ['10', 'lucky strike somerville somerville', 'Lucky Strike Social Somerville (@luckysocialsom) • Instagram ...', '1303 Followers, 855 Following, 314 Posts - See Instagram photos and videos from Lucky Strike Social Somerville (@luckysocialsom)', 'https://www.instagram.com/luckysocialsom/?hl=en', '1,303 Followers, 855 Following, 314 Posts - See Instagram photos and videos from Lucky Strike Social Somerville (@luckysocialsom)'], ['10', 'lucky strike somerville somerville', 'Rock and Bowl NYE Party at Lucky Strike Somerville [12/31/21]', \"Jan 1, 2022 ... Get ready to Rock and Bowl at our annual New Year's Party! Ring in the 2022 at Lucky Strike Somerville on Friday, December 31st.\", 'https://www.thebostoncalendar.com/events/rock-and-bowl-nye-party-at-lucky-strike-somerville', 'Get ready to Rock and Bowl at our annual New Year’s Party! Ring in the 2022 at Lucky Strike Somerville on Friday, December 31st. General Admission tickets, billiards, shuffleboard & bowling packages are available. Dance the year away with a live DJ and enjoy a game of bowling and your favorite arcade game to welcome in the New Year along with a balloon drop! \\r\\n\\r\\n\\r\\nFriday, December 31,2021\\r\\n8 PM – 1 AM \\r\\n\\r\\nLucky Strike Social Somerville\\r\\n325 Revolution Drive \\r\\nSomerville, MA 02145\\r\\n\\r\\nWho: 21 and older welcome\\r\\nTickets & packages are available at - www.luckystrikeent.com/nyesomerville\\r\\nFor more information on packages visit www.luckystrikeent.com/nyesomerville\\r\\nProper ID and Dress Code required.'], ['11', 'the esplanade boston 2', 'Blog Archives - Page 2 of 6 - The Esplanade Association', 'Mar 19, 2019 ... March 31 event headlined by Boston Marathon Survivor Adrianne Haslet will feature a warm-up workout, fun run, and silent disco.', 'https://esplanade.org/category/blog/page/2/', 'The New England Aquarium is one of the premier visitor attractions in Boston, with over 1.3 million visitors a year, and a major public education resource.'], ['11', 'the esplanade boston 2', 'THE ESPLANADE - Parks - Storrow Dr, Boston, MA - Yelp', \"The Esplanade is where you will see the Hatch Shell, Boston's famous outdoor music ... When I was able to visit Boston for… read more. Useful. 2.\", 'https://www.yelp.com/biz/the-esplanade-boston-2', '95 reviews of The Esplanade \"This park area stretches along Charles River between Mass Ave. and Longfellow bridge.  You typically hear about it during the 4th of July.  But it\\'s also a wonderful area to come out during other times of the year. You will certainly see many sailboats, joggers, cyclists and in-line skaters as well as landscaped hills, lakes and bridges.  \\n\\nThe Esplanade is where you will see the Hatch Shell, Boston\\'s famous outdoor music amphitheater.  Also Community Boating is here and that is where you can join to be a member of a sailing club offering inexpensive sailing lessons and boat rentals.\"'], ['11', 'the esplanade boston 2', 'Saturdays at Stoneman - The Esplanade Association', 'Join the Esplanade Association and Boston Music Project at the Stoneman Playground on the Esplanade for family-friendly music ... Session 2: 11am to 12pm\\xa0...', 'https://esplanade.org/saturdaysatstoneman/', 'Join the\\xa0Esplanade Association\\xa0and\\xa0Boston Music Project\\xa0at the Stoneman Playground on the Esplanade for family-friendly music and movement programming for children and families of all ages!'], ['11', 'the esplanade boston 2', \"Here's how a $20M donation could change Boston's Esplanade\", 'Sep 21, 2021 ... The Esplanade could be seeing a new two-acre renovation at the former Lee Pool site after a $20 million donation was pledged.', 'https://www.boston.com/news/local-news/2021/09/21/20-million-dollar-donation-pledged-to-esplanade-redevelopment/', 'The Esplanade could be seeing a new two-acre renovation at the former Lee Pool site after a $20 million donation was pledged.'], ['11', 'the esplanade boston 2', 'Esplanade | Cambridge | Condos', '... decorated lobby and a distinct waterfront edifice, you will be proud to call The Esplanade Boston condos your home. ... 2 bedroom for rent in Esplanade\\xa0...', 'https://www.clproperties.com/condo/esplanade/'], ['11', 'the esplanade boston 2', 'The Esplanade - Back Bay East - 80 tips', '(2 Tips). Ron J. \"Awesome park with paddle board rentals and peaceful views. ... The best running spot in Boston is along the Esplanade on the Charles River\\xa0...', 'https://foursquare.com/v/the-esplanade/4696393cf964a520e2481fe3', 'Park in Boston, MA'], ['11', 'the esplanade boston 2', 'Back Bay Apartments for Rent - Boston, MA | Apartments.com', 'Results 1 - 25 ... What is the average rent of a 2 bedroom apartment in Back Bay, MA? Back Bay has two-bedroom apartments that rent for around $5,862 per month. What\\xa0...', 'https://www.apartments.com/back-bay-boston-ma/', 'We simplify the process of finding a new apartment by offering renters the most comprehensive database including millions of detailed and accurate apartment listings across the United States. Our innovative technology includes the POLYGON™ search tool that allows users to define their own search areas on a map and a Plan Commute feature that helps users search for rentals in proximity to their office.'], ['11', 'the esplanade boston 2', \"Can Boston's July 4th fireworks be seen from the Queen Mary 2?\", 'We will be in port at in Boston on the Queen Mary 2 cruise ship on July 4th, ... 1) Walk from the CruisePort either to Boston Common or on to the Esplanade.', 'https://www.boston-discovery-guide.com/can-bostons-july-4th-fireworks-be-seen-from-the-queen-mary-2.html', 'We will be in port at in Boston on the Queen Mary 2 cruise ship on July 4th, and we are wondering if the Independence Day fireworks can be seen from where'], ['11', 'the esplanade boston 2', 'Baby swan on Esplanade rescued after having difficulty swimming ...', 'Jun 2, 2021 ... A Boston animal control officer responded to the esplanade and transported the cygnet to Angell Animal Medical Center, officials said. The\\xa0...', 'https://www.bostonglobe.com/2021/06/02/metro/baby-swan-esplanade-rescued-after-having-difficulty-swimming/', 'One of the cygnets calling the Charles River Esplanade home required a rescue Tuesday night — just one day after the swans’ mother passed away, officials said.'], ['11', 'the esplanade boston 2', 'Fitness Archives | Page 2 of 7 | Boston University', 'Health Matters Conference at Boston University BU. Nutrition ... Sunset Yoga Class, Boston Charles River Esplanade, Esplanade Association ... April 2, 2014.', 'https://www.bu.edu/today/articles/category/fitness/page/2/', 'Boston University is a leading private research institution with two primary campuses in the heart of Boston and programs around the world.'], ['12', 'boxaroo boston 6', 'BOXAROO - 23 Photos & 75 Reviews - 55 Court St, Boston, MA', '75 reviews of Boxaroo \"One of the best room escapes out there. ... The location is right in the heart of Boston and is very convenient for ... 6/12/2021.', 'https://www.yelp.com/biz/boxaroo-boston-6', 'COVID update: Boxaroo has updated their hours and services. 75 reviews of Boxaroo \"One of the best room escapes out there.\\n\\nThe puzzles are very well thought out and are designed to cater to both hardcore and casual puzzle solvers. The location is right in the heart of Boston and is very convenient for team bonding events.\"'], ['12', 'boxaroo boston 6', 'book your adventure - Boston', \"A Puzzle Room Experience in Boston. ... Did you know- Boxaroo's mascot is Roo? ... 6:30pm. Unavailable. 8:00pm. 2-10 players. 9:30pm. 2-10 players.\", 'https://boxaroo.me/book', '4-10 Friends, 60 minutes... Are you up for the Challenge?'], ['12', 'boxaroo boston 6', 'Boxaroo - Boston Room Escape Parking - Find Parking near ...', 'Find out where to park near Boxaroo - Boston Room Escape and book a space. See parking lots and garages and compare prices on the Boxaroo - Boston Room\\xa0...', 'https://www.parkwhiz.com/boxaroo-boston-room-escape-parking-1/', 'Find out where to park near Boxaroo - Boston Room Escape and book a space. See parking lots and garages and compare prices on the Boxaroo - Boston Room Escape parking map at ParkWhiz.'], ['12', 'boxaroo boston 6', 'Boxaroo! Escape Rooms and Real Life Adventures', 'A Puzzle Room Experience in Boston.', 'https://boxaroo.me/', '4-10 Friends, 60 minutes... Are you up for the Challenge?'], ['12', 'boxaroo boston 6', 'Boxaroo (Boston) - 2022 All You Need to Know BEFORE You Go ...', \"Experience Boston's newest Room Escape Adventure! Enjoy puzzles, brainteasers, and mysteries? Voted number 3 for USA Today's Top 10 Escape Rooms of 2019 and\\xa0...\", 'https://www.tripadvisor.com/Attraction_Review-g60745-d10384205-Reviews-Boxaroo-Boston_Massachusetts.html', 'Step back in time and see how the Boston Tea Party changed American history! This Boston museum details the series of events leading to December 16, 1773, and then goes on to demonstrate how that fateful day kick-started the American Revolution. View the Robinson Tea Chest, the only known surviving tea chest from the Boston Tea Party and experience it’s amazing story. At the Boston Tea Party Ships and Museum, spend your day exploring the famed tall ships, throw the fated tea into Boston Harbor, explore museum exhibits, watch a captivating movie recounting the events of that time and enjoy a fully guided tour!\\n\\n*Vaccination Requirements - January 15th, People age 12+ must show proof of one dose of vaccine. - February 15th, People age 12+ must show proof of full vaccination. - March 1st, Children age 5-11 must show proof of one dose of vaccine. - May 1st People age 5+ must show proof of full vaccination.'], ['12', 'boxaroo boston 6', 'Boxaroo! A New Escape the Room Adventure', 'This is a puzzle room adventure in Boston, MA. The experience is for 2-5 Players, and may take up to 75 minutes. Bookings for this room are all private. We\\xa0...', 'https://boxaroo.me/storyteller', 'Be the first to try it out!'], ['12', 'boxaroo boston 6', 'Boxaroo - Home | Facebook', \"Boxaroo is Boston's best escape room company. Built by a local team of artists and ... 55 Court St, Unit B100B, Boston, MA 02108. ... 6 Likes3 comments.\", 'https://www.facebook.com/boxarooboston/', \"Boxaroo, Boston. 989 likes · 6 talking about this · 1,334 were here. Boxaroo is Boston's best escape room company. Built by a local team of artists and engineers, we've got three award winning rooms...\"], ['12', 'boxaroo boston 6', 'Boxaroo! A New Escape the Room Adventure', \"We highly recommend public transportation, as it is Downtown Boston afterall. Look for a giant teapot steaming above a Starbucks; we're a couple of doors to\\xa0...\", 'https://boxaroo.me/museum/directions', 'Be the first to try it out!'], ['12', 'boxaroo boston 6', '10 Best Escape Rooms in Boston - Escape Room Tips', \"We've done 13+ escape rooms in Boston itself and update this list whenever ... public) – Boxaroo; Panacea (2-8, $30, public/private) – Room Escapers Boston\\xa0...\", 'https://escaperoomtips.com/top/boston-escape-rooms', 'Looking for a Boston escape room? We’ve done 13+ escape rooms in Boston itself and update this list whenever we’re back in the area. Here are our top-recommended escape rooms in Boston: (temp. closed)\\xa0Storyteller’s Secret (2-5p, $38-44, private) – Boxaroo Conundrum Museum\\xa0(4-10p, $32, public) – Boxaroo Clock Tower (2-10p, $30, public) – Escape the Room... Continue Reading →'], ['12', 'boxaroo boston 6', 'Boxaroo! Escape Rooms and Real Life Adventures', \"We are Boxaroo! We're an immersive adventure company that designs, builds, and operates interactive experiences. We're known for our puzzle and escape room\\xa0...\", 'https://boxaroo.me/about', '4-10 Friends, 60 minutes... Are you up for the Challenge?'], ['13', 'chez vous roller skating rink boston', 'Chez-Vous Roller Skating Rink', 'Serving Boston for many years, we cater to youth, families and various organizations in and around Boston!', 'https://chezvousrollerrink.com/', 'Update(1/1/22) WE ARE CLOSED FOR SKATING! We understand its frustrating, but we plan to provide updates soon! Happy New Year!'], ['13', 'chez vous roller skating rink boston', 'Chez Vous Roller Skating Rink - Home | Facebook', '11 Rhoades St, Boston, MA 02124. Get Directions · Rating · 4.6. (196 reviews) · 9,325 people checked in here · (617) 825-6877 · chezvous11@outlook.com · http://\\xa0...', 'https://www.facebook.com/chezvousskating/', 'Chez Vous Roller Skating Rink, Boston, MA. 4,724 likes · 12 talking about this · 9,325 were here. OPEN FOR ALL SCHOOL CLOSINGS AND SCHOOL HOLIDAY VACATION FROM 2PM-6PM! ALL AGES!'], ['13', 'chez vous roller skating rink boston', 'How Chez-Vous Transformed From Roller Rink to Soul Food ...', \"Mar 23, 2021 ... In March 2020, Chez-Vous Roller Skating Rink's staff were gearing up to host “Swerve: A Boston Skate Situation,” its annual April\\xa0...\", 'https://boston.eater.com/2021/3/23/22346630/chez-vous-pivot-roller-skating-rink-dorchester-soul-food-restaurant-pandemic-boston', 'While the pandemic shut down their roller skating rink, the Toney family kept using their rink’s kitchen to serve soul food to their regulars'], ['13', 'chez vous roller skating rink boston', 'CHEZ VOUS ROLLER SKATING RINK - 11 Rhoades St, Boston, MA', 'Chez Vous Roller Skating Rink · 11 Rhoades St. Boston, MA 02124. Mattapan. Directions · (617) 825-6877. Call Now · View classes · More Info. Hours, Accepts Credit\\xa0...', 'https://www.yelp.com/biz/chez-vous-roller-skating-rink-boston', '59 reviews of Chez Vous Roller Skating Rink \"Chez Vous has its roots in the past, with more than 70 years as the best roller rink in the area behind it, but it\\'s moving into the future with programs in conjunction with local families and schools to help keep kids on roller skates instead of out on the street. Their glossy floor is a dream for skaters of all ages. On weekend afternoons, local kids enjoy the Vous while Sunday night makes room for adult night featuring some of the most brilliantly skilled jam skaters you\\'ll ever see, right here in Boston. Mirrors on the walls, red carpet columns and a massive soundsystem make Chez Vous a stylish, fun hidden gem.\\n\\nIt\\'s going to need the community\\'s support to keep it around though, so that\\'s what the All Skate series is about, which is my project (www.myspace.com/bostonrollerboogie).\\n\\nWe\\'re putting together a huge roller disco party with a core purpose of making sure that Boston hangs on to a place for people of all ages, genders and backgrounds to enjoy great mu'], ['13', 'chez vous roller skating rink boston', 'Fun Places to go Roller Skating Near Boston, MA', 'Find one of the few roller skating rinks left near you in Massachusetts, and enjoy a fun, music-filled day of indoor fun. chez-vous roller skating rink small\\xa0...', 'https://www.bostoncentral.com/activities/roller.php', 'Outdoor Adventures is a family-friendly Boston Outdoor Escape Room that uses Augmented Reality. Uncover Clues as you and your team explores Boston!'], ['13', 'chez vous roller skating rink boston', 'Chez-Vous Rollerskating Rink (Boston) - 2022 All You Need to ...', 'Aug 5, 2018 ... Chez-Vous Rollerskating Rink, Boston: Hours, Address, Chez-Vous Rollerskating Rink Review: 4/5. See all things to do\\xa0...', 'https://www.tripadvisor.com/Attraction_Review-g60745-d14981298-Reviews-Chez_Vous_Rollerskating_Rink-Boston_Massachusetts.html', '235 reviews of Trapology Boston \"I\\'m slightly obsessed with puzzle games and this was SO PERFECT! You know how you can kinda cheat on a PC/iPad game because you know what\\'s clickable and what isn\\'t? Well there are no cheats like that IRL!\\n\\nHighly recommended to bring a group of friends and make new friends (definitely bring your smartypants friends), not recommended for those who hate fun.\"'], ['13', 'chez vous roller skating rink boston', 'Chez Vous Roller Skating Rink (@chezvousskating) • Instagram ...', '2656 Followers, 302 Following, 1559 Posts - See Instagram photos and videos from Chez Vous Roller Skating Rink (@chezvousskating)', 'https://www.instagram.com/chezvousskating/?hl=en', '2,656 Followers, 302 Following, 1,559 Posts - See Instagram photos and videos from Chez Vous Roller Skating Rink (@chezvousskating)'], ['13', 'chez vous roller skating rink boston', 'Chez-Vous Roller Skating Rink (Local Guide)', 'For over 80 years, Chez-Vous Roller Rink has provided family fun and entertainment to many all over Massachusetts. Join in on the fun! Open 7 days out the week.', 'https://www.bostoncentral.com/activities/chez-vous-rollerskating-rink/p2358.php', 'Real Life Adventure Escape Game and Immersive Entertainment.\\n\\nhttps://t.co/FmecmAGgBl  \\n(857) 285-2085\\n#EscapeRoom'], ['13', 'chez vous roller skating rink boston', 'Fundraiser by Chez Vous : Chez-Vous Skating Rink Fundraiser', 'Aug 19, 2020 ... Chez- Vous has been a staple in Boston for decades, providing memories and entertainment f… Chez Vous needs your support for Chez-Vous\\xa0...', 'https://www.gofundme.com/f/chezvous-skating-rink-fundraiser', 'Chez- Vous has been a staple in Boston for decades, providing memories and entertainment f… Chez Vous needs your support for Chez-Vous Skating Rink Fundraiser'], ['13', 'chez vous roller skating rink boston', 'Gunfire Shatters A Boston Haven For Teen-Agers - The New York ...', \"Jan 25, 1994 ... For years the Chez Vous Roller Skating Rink offered children a refuge from the streets of Dorchester and Mattapan, two of Boston's tougher\\xa0...\", 'https://www.nytimes.com/1994/01/25/us/gunfire-shatters-a-boston-haven-for-teen-agers.html']]\n"
          ]
        }
      ]
    },
    {
      "cell_type": "code",
      "source": [
        "scores = {}\n",
        "for row in testValues:\n",
        "    try:\n",
        "      activity = row[0]\n",
        "      if activity not in scores:\n",
        "          scores[activity] = []\n",
        "      text = row[2]+\" \"+row[3]\n",
        "      if len(row) == 6:\n",
        "        text += \" \"+row[5]\n",
        "      test = mostProbable(WVmodel, activityVecs, text)\n",
        "      scores[activity].append(str(np.argmax(test))==activity)\n",
        "    except:\n",
        "      print(len(row))\n",
        "      continue\n",
        "total = [0, 0]\n",
        "for i in scores:\n",
        "  subset = scores[i][:4]\n",
        "  total[0] += sum(subset)\n",
        "  total[1] += len(subset)\n",
        "  print(\"Correctly predicted \"+str(sum(subset))+\" of \"+str(len(subset))+\" websites for \"+str(activityNames[i]))\n",
        "print(\"Predicting success total at \"+str(total[0]/total[1]*100)+\"%\")"
      ],
      "metadata": {
        "colab": {
          "base_uri": "https://localhost:8080/"
        },
        "id": "szhED6RHgCNY",
        "outputId": "057fd87a-ff59-4b9b-94d8-28b8b9ae6691"
      },
      "execution_count": 115,
      "outputs": [
        {
          "output_type": "stream",
          "name": "stderr",
          "text": [
            "/usr/local/lib/python3.7/dist-packages/ipykernel_launcher.py:6: DeprecationWarning: Call to deprecated `__getitem__` (Method will be removed in 4.0.0, use self.wv.__getitem__() instead).\n",
            "  \n"
          ]
        },
        {
          "output_type": "stream",
          "name": "stdout",
          "text": [
            "Correctly predicted 4 of 4 websites for boston tea party ships and museum boston\n",
            "Correctly predicted 0 of 4 websites for trapology boston boston\n",
            "Correctly predicted 2 of 4 websites for jacques cabaret boston\n",
            "Correctly predicted 4 of 4 websites for haunted boston ghost tours boston\n",
            "Correctly predicted 1 of 4 websites for escape the room boston boston\n",
            "Correctly predicted 0 of 4 websites for the lawn on d boston\n",
            "Correctly predicted 3 of 4 websites for charles river canoe and kayak cambridge 2\n",
            "Correctly predicted 2 of 4 websites for urban axes somerville somerville\n",
            "Correctly predicted 1 of 4 websites for cambridge center roof garden cambridge\n",
            "Correctly predicted 2 of 4 websites for lucky strike somerville somerville\n",
            "Correctly predicted 4 of 4 websites for the esplanade boston 2\n",
            "Correctly predicted 3 of 4 websites for boxaroo boston 6\n",
            "Correctly predicted 1 of 4 websites for chez vous roller skating rink boston\n",
            "Predicting success total at 51.92307692307693%\n"
          ]
        }
      ]
    },
    {
      "cell_type": "markdown",
      "source": [
        "# Data Explanation\n",
        "The model predicted around half of the websites correctly. Given the limited data set we have, I was happy with the results (the model only took 10 sec to train). Obviously, the biggest limitation in this model is the vocabulary. Many of the words in non-training samples are not found in the vocabulary. Additionally, with limited data, it is especially hard to make predictions on data formated differently than the training data. In this case, I simply concatenated all the information provided by Google for each website. Ideally, I would attempt this again by training on a variety of information and preclassify like activities. In the training set, there were 3 escape room activities. It's no wonder that the model preformed poorly on most of those activities. Also, the descriptions of the lawn on boston and cambridge center roof garden are difficult to distinguish (even by hand once names were taken out). \n",
        "\n",
        "In a model attempting to classify activities from people's lives, it will be important to get a time and location stamp to help strengthen activities that should be grouped together. I propose first collecting a substantial database of journals and information relating to activites of those people who journaled. Then I would first group information by location and time. I would further train a model simply for weeding out non-similar data. Then I would train a seperate model for recognizing similar type data. Importantly, the two approaches for cleaning the data and then training on the final model will need to be different and require more thought. "
      ],
      "metadata": {
        "id": "Wv2ZHpLMtgMy"
      }
    },
    {
      "cell_type": "code",
      "source": [
        ""
      ],
      "metadata": {
        "id": "mq5IMi4xhPrZ"
      },
      "execution_count": 72,
      "outputs": []
    }
  ]
}